{
 "cells": [
  {
   "cell_type": "code",
   "execution_count": 16,
   "metadata": {},
   "outputs": [],
   "source": [
    "import cv2\n",
    "import numpy as np\n",
    "import tensorflow as tf"
   ]
  },
  {
   "cell_type": "code",
   "execution_count": 17,
   "metadata": {},
   "outputs": [],
   "source": [
    "# Load the trained CNN model\n",
    "model = tf.keras.models.load_model('path/to/your/model.h5')"
   ]
  },
  {
   "cell_type": "code",
   "execution_count": 18,
   "metadata": {},
   "outputs": [],
   "source": [
    "# Define a function to preprocess the input image\n",
    "def preprocess(image):\n",
    "    # Convert the image to grayscale\n",
    "    gray = cv2.cvtColor(image, cv2.COLOR_BGR2GRAY)\n",
    "    # Threshold the image to make it binary\n",
    "    _, binary = cv2.threshold(gray, 0, 255, cv2.THRESH_BINARY_INV + cv2.THRESH_OTSU)\n",
    "    # Find the contours in the image\n",
    "    contours, hierarchy = cv2.findContours(binary, cv2.RETR_EXTERNAL, cv2.CHAIN_APPROX_SIMPLE)\n",
    "    # Find the bounding box of the largest contour\n",
    "    x, y, w, h = cv2.boundingRect(max(contours, key=cv2.contourArea))\n",
    "    # Crop the image to the bounding box\n",
    "    image_cropped = binary[y:y + h, x:x + w]\n",
    "    # Resize the image to 28x28\n",
    "    image_resized = cv2.resize(image_cropped, (28, 28), interpolation=cv2.INTER_AREA)\n",
    "    # Reshape the image to 4D tensor (batch_size, height, width, channels)\n",
    "    image_tensor = np.reshape(image_resized, (1, 28, 28, 1))\n",
    "    # Convert the image to float32 and scale it to [0, 1]\n",
    "    image_tensor = image_tensor.astype('float32') / 255.0\n",
    "    return image_tensor\n"
   ]
  },
  {
   "cell_type": "code",
   "execution_count": 19,
   "metadata": {},
   "outputs": [],
   "source": [
    "# Define a function to recognize the digit in the input image\n",
    "def recognize_digit(image):\n",
    "    # Preprocess the input image\n",
    "    image_tensor = preprocess(image)\n",
    "    # Use the trained CNN model to predict the digit in the image\n",
    "    predicted_probabilities = model.predict(image_tensor)\n",
    "    # Get the predicted class with highest probability\n",
    "    predicted_digit = np.argmax(predicted_probabilities, axis=1)[0]\n",
    "    return predicted_digit\n"
   ]
  },
  {
   "cell_type": "code",
   "execution_count": 22,
   "metadata": {},
   "outputs": [
    {
     "name": "stdout",
     "output_type": "stream",
     "text": [
      "1/1 [==============================] - 0s 62ms/step\n"
     ]
    }
   ],
   "source": [
    "# Open the webcam\n",
    "cap = cv2.VideoCapture(0)\n",
    "\n",
    "# Loop until the 'f' key is pressed\n",
    "while True:\n",
    "    # Read the current frame from the webcam\n",
    "    ret, frame = cap.read()\n",
    "    # Display the current frame\n",
    "    cv2.imshow('Webcam', frame)\n",
    "    # Check if the 'f' key is pressed\n",
    "    if cv2.waitKey(1) & 0xFF == ord('f'):\n",
    "        break\n",
    "\n",
    "# Release the webcam\n",
    "cap.release()\n",
    "\n",
    "# Convert the image to grayscale\n",
    "gray = cv2.cvtColor(frame, cv2.COLOR_BGR2GRAY)\n",
    "\n",
    "# Recognize the digit in the input image\n",
    "predicted_digit = recognize_digit(frame)\n",
    "\n",
    "# Display the predicted digit\n",
    "cv2.putText(frame, str(predicted_digit), (10, 30), cv2.FONT_HERSHEY_SIMPLEX, 1, (0, 255, 0), 2)\n",
    "cv2.imshow('Recognized Digit', frame)\n",
    "cv2.waitKey(0)\n",
    "cv2.destroyAllWindows()"
   ]
  }
 ],
 "metadata": {
  "kernelspec": {
   "display_name": "Python 3",
   "language": "python",
   "name": "python3"
  },
  "language_info": {
   "codemirror_mode": {
    "name": "ipython",
    "version": 3
   },
   "file_extension": ".py",
   "mimetype": "text/x-python",
   "name": "python",
   "nbconvert_exporter": "python",
   "pygments_lexer": "ipython3",
   "version": "3.10.7"
  },
  "orig_nbformat": 4
 },
 "nbformat": 4,
 "nbformat_minor": 2
}
